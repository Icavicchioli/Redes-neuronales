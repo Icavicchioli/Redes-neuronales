{
 "cells": [
  {
   "cell_type": "markdown",
   "id": "79d44e76",
   "metadata": {},
   "source": [
    "# Redes Neuronales - TP1"
   ]
  },
  {
   "cell_type": "markdown",
   "id": "d9903c47",
   "metadata": {},
   "source": [
    "## Ej 3\n",
    "\n",
    "Implemente una red de Hopfield ‘82 que aprenda patrones pseudo-aleatorios y estudie qué sucede\n",
    "con los patrones aprendidos cuando algunas interconexiones son eliminadas al azar.\n",
    "1. ¿Cómo cambia el error en función del porcentaje de sinapsis eliminadas?\n",
    "2. ¿Cómo cambia la capacidad en función del porcentaje de sinapsis eliminadas?"
   ]
  },
  {
   "cell_type": "markdown",
   "id": "accf9be7",
   "metadata": {},
   "source": [
    "Mi idea es tomar una red de un tamaño como $100 \\times 100$, entrenarla con una cantidad de patrones $N_p$ dada por lo discutido en el ejercicio 2 del trabajo.  Luego, cambiar los $W_{i,j}$ de a uno y evaluar el error y capacidad. Para eliminar una sinapsis mando su weight a 0. "
   ]
  },
  {
   "cell_type": "code",
   "execution_count": null,
   "id": "41967781",
   "metadata": {},
   "outputs": [],
   "source": [
    "# primero importamos numpy y algo para leer imágenes y hacer graficos\n",
    "import numpy as np\n",
    "import matplotlib.pyplot as plt"
   ]
  },
  {
   "cell_type": "code",
   "execution_count": null,
   "id": "bd26147a",
   "metadata": {},
   "outputs": [],
   "source": []
  }
 ],
 "metadata": {
  "kernelspec": {
   "display_name": "Python 3",
   "language": "python",
   "name": "python3"
  },
  "language_info": {
   "codemirror_mode": {
    "name": "ipython",
    "version": 3
   },
   "file_extension": ".py",
   "mimetype": "text/x-python",
   "name": "python",
   "nbconvert_exporter": "python",
   "pygments_lexer": "ipython3",
   "version": "3.12.7"
  }
 },
 "nbformat": 4,
 "nbformat_minor": 5
}
