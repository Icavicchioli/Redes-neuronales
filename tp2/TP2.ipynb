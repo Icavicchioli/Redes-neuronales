{
 "cells": [
  {
   "cell_type": "markdown",
   "id": "79d44e76",
   "metadata": {},
   "source": [
    "# Redes Neuronales - TP2\n",
    "## Ej 1\n",
    "\n",
    "Implemente un perceptrón simple que aprenda la función lógica AND y la función lógica OR, de 2 y de 4 entradas. Muestre la evolución del error durante el entrenamiento. Para el caso de 2 dimensiones, grafique la recta discriminadora y todos los vectores de entrada de la red.\n",
    "\n",
    "Las tablas de verdad de las funciones lógicas para 2 variables son:\n",
    "\n",
    "AND\n",
    "|A|B|Y|\n",
    "|-|-|-|\n",
    "|1|1|1|\n",
    "|0|1|0|\n",
    "|1|0|0|\n",
    "|0|0|0|\n",
    "\n",
    "\n",
    "OR\n",
    "|A|B|Y|\n",
    "|-|-|-|\n",
    "|1|1|1|\n",
    "|0|1|1|\n",
    "|1|0|1|\n",
    "|0|0|0|\n",
    "\n",
    "Primero voy a hacerlo para los sets de 2 variables, y luego para 4 variables."
   ]
  },
  {
   "cell_type": "markdown",
   "id": "47983739",
   "metadata": {},
   "source": [
    "Para encontrar la fórmula de la recta que hace de frontera de decisión se puede partir de la expresión de la sumatoria de los $X$ con sus respectivos pesos y el bias, y suponer que $Y=0$, lo que significa que estás parado sobre la frontera, tu muestra no es ni de una clase ni de la otra. \n",
    "\n",
    "$$\n",
    "X1 \\cdot w1 + X2 \\cdot w2 + b = 0 \n",
    "$$\n",
    "\n",
    "Y si suponemos que $X1$ es nuestra abscisa que vamos a barrer y $X2$ es la ordenda la recta toma la forma de:\n",
    "\n",
    "$$\n",
    "X2 = \\frac{w1 \\cdot X1 + b}{-w2}\n",
    "$$\n",
    "\n",
    "Y entonces $m=-w1/w2 $ y b = $-b/w2$"
   ]
  },
  {
   "cell_type": "code",
   "execution_count": 469,
   "id": "815fd8bd",
   "metadata": {},
   "outputs": [],
   "source": [
    "import numpy as np\n",
    "import matplotlib.pyplot as plt"
   ]
  },
  {
   "cell_type": "code",
   "execution_count": 470,
   "id": "cd2c82a0",
   "metadata": {},
   "outputs": [
    {
     "name": "stdout",
     "output_type": "stream",
     "text": [
      "[[-1 -1 -1]\n",
      " [ 1 -1 -1]\n",
      " [-1  1 -1]\n",
      " [ 1  1  1]]\n",
      "[[-1 -1 -1]\n",
      " [ 1 -1  1]\n",
      " [-1  1  1]\n",
      " [ 1  1  1]]\n"
     ]
    }
   ],
   "source": [
    "A = np.array([-1,1,-1,1])\n",
    "B = np.array([-1,-1,1,1])\n",
    "Y1 = np.array([-1,-1,-1,1])\n",
    "Y2 = np.array([-1,1,1,1])\n",
    "\n",
    "# Convertir a matriz de columnas (A|B|Y)\n",
    "\n",
    "datos_AND = np.column_stack((A, B, Y1))\n",
    "\n",
    "datos_OR = np.column_stack((A, B, Y2))\n",
    "\n",
    "print(datos_AND)\n",
    "\n",
    "print(datos_OR)"
   ]
  },
  {
   "cell_type": "code",
   "execution_count": 471,
   "id": "ee833391",
   "metadata": {},
   "outputs": [],
   "source": [
    "class perceptron_simple:\n",
    "    def __init__(self):\n",
    "        self.pesos = None\n",
    "        self.lr = None\n",
    "\n",
    "    def predict(self, x):\n",
    "        # x ya debe incluir el bias\n",
    "        return 1 if np.dot(self.pesos, x) >= 0 else -1 # función signo para predecir\n",
    "\n",
    "    def calcular_error(self, X, y):\n",
    "        \"\"\"calcula el error de clasificación en base a los pesos que tiene guardados, el X e Y. \"\"\"\n",
    "        error = 0\n",
    "        for xi, target in zip(X, y):\n",
    "            xi_con_bias = np.insert(xi, 0, 1) # agrega el 1 para la entrada de bias\n",
    "            prediccion = self.predict(xi_con_bias) # hace la predicción con los pesos actuales\n",
    "            if prediccion != target:\n",
    "                error += 1\n",
    "        return error\n",
    "\n",
    "    def train(self, X, y, epochs=100, lr=0.01):\n",
    "        \"\"\"\n",
    "        X: matriz de entradas (sin bias)\n",
    "        y: vector de salidas esperadas\n",
    "        epochs: cantidad de iteraciones sobre el dataset\n",
    "        lr: learning rate\n",
    "        \"\"\"\n",
    "        self.lr = lr\n",
    "        self.pesos = np.zeros(X.shape[1] + 1)  # tantos pesos como columnas en X más el bias\n",
    "        error_por_cambio = [] # vamos guardando el error por cada cambio de peso\n",
    "\n",
    "        # inicializo los pesos en valores aleatorios entre -1 y 1.\n",
    "        self.pesos = np.random.rand(X.shape[1] + 1)*2 -1 # tenemos valores de 0 a 2 y le resto 1 para tener negativos y positivos\n",
    "        \n",
    "        for _ in range(epochs):\n",
    "            for xi, target in zip(X, y):\n",
    "                xi_con_bias = np.insert(xi, 0, 1) # agrega el 1 para la entrada de bias\n",
    "                prediccion = self.predict(xi_con_bias) # hace la predicción con los pesos actuales\n",
    "                error = target - prediccion # calcula el error como la diferencia entre el valor esperado y el predicho\n",
    "                self.pesos += self.lr * error * xi_con_bias\n",
    "                error_luego_de_cambio = self.calcular_error(X,y)\n",
    "                error_por_cambio.append(error_luego_de_cambio) # guardo el error cada vez que cambia un peso\n",
    "                if error_luego_de_cambio < 0.01: # condición de corte: si no hay error, convergió\n",
    "                    break\n",
    "            if error_luego_de_cambio < 0.01: # condición de corte: si no hay error, convergió\n",
    "                break\n",
    "        return error_por_cambio\n"
   ]
  },
  {
   "cell_type": "code",
   "execution_count": null,
   "id": "e181cb72",
   "metadata": {},
   "outputs": [],
   "source": [
    "def calcular_recta_con_pesos(pesos):\n",
    "    m = -pesos[1]/pesos[2]\n",
    "    b = -pesos[0]/pesos[2]\n",
    "    ejeX = np.array([-2, 2])\n",
    "    ejeY = m * ejeX + b\n",
    "    return m, b, ejeX, ejeY"
   ]
  },
  {
   "cell_type": "code",
   "execution_count": 473,
   "id": "cfb73021",
   "metadata": {},
   "outputs": [],
   "source": [
    "perceptron_simple = perceptron_simple()"
   ]
  },
  {
   "cell_type": "code",
   "execution_count": 474,
   "id": "006e0bbd",
   "metadata": {},
   "outputs": [],
   "source": [
    "X = datos_AND[:, :2]  # Entradas (A, B)\n",
    "Y = datos_AND[:, 2]  # Salidas (Y1) \n",
    " \n",
    "error_por_cambio = perceptron_simple.train(X, Y, epochs=10, lr=0.1)"
   ]
  },
  {
   "cell_type": "code",
   "execution_count": 475,
   "id": "2f531fe3",
   "metadata": {},
   "outputs": [
    {
     "data": {
      "text/plain": [
       "array([-0.59611   ,  0.1826395 ,  0.54766537])"
      ]
     },
     "execution_count": 475,
     "metadata": {},
     "output_type": "execute_result"
    }
   ],
   "source": [
    "perceptron_simple.pesos"
   ]
  },
  {
   "cell_type": "code",
   "execution_count": 476,
   "id": "e1d768f8",
   "metadata": {},
   "outputs": [
    {
     "data": {
      "text/plain": [
       "[<matplotlib.lines.Line2D at 0x1ecf71b24e0>]"
      ]
     },
     "execution_count": 476,
     "metadata": {},
     "output_type": "execute_result"
    },
    {
     "data": {
      "image/png": "[encoded data removed]",
      "text/plain": [
       "<Figure size 640x480 with 1 Axes>"
      ]
     },
     "metadata": {},
     "output_type": "display_data"
    }
   ],
   "source": [
    "plt.plot(error_por_cambio)"
   ]
  },
  {
   "cell_type": "code",
   "execution_count": 477,
   "id": "da396e87",
   "metadata": {},
   "outputs": [],
   "source": [
    "_,_,ejex,ejey = calcular_recta_con_pesos(perceptron_simple.pesos)"
   ]
  },
  {
   "cell_type": "code",
   "execution_count": 478,
   "id": "51030d26",
   "metadata": {},
   "outputs": [
    {
     "data": {
      "text/plain": [
       "[<matplotlib.lines.Line2D at 0x1ecf70455b0>]"
      ]
     },
     "execution_count": 478,
     "metadata": {},
     "output_type": "execute_result"
    },
    {
     "data": {
      "image/png": "[encoded data removed]",
      "text/plain": [
       "<Figure size 640x480 with 1 Axes>"
      ]
     },
     "metadata": {},
     "output_type": "display_data"
    }
   ],
   "source": [
    "plt.figure()\n",
    "plt.plot(ejex, ejey, '-r', label='Frontera de decisión')"
   ]
  }
 ],
 "metadata": {
  "kernelspec": {
   "display_name": "Python 3",
   "language": "python",
   "name": "python3"
  },
  "language_info": {
   "codemirror_mode": {
    "name": "ipython",
    "version": 3
   },
   "file_extension": ".py",
   "mimetype": "text/x-python",
   "name": "python",
   "nbconvert_exporter": "python",
   "pygments_lexer": "ipython3",
   "version": "3.12.7"
  }
 },
 "nbformat": 4,
 "nbformat_minor": 5
}
