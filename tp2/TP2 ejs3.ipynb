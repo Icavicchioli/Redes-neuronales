{
 "cells": [
  {
   "cell_type": "markdown",
   "id": "79d44e76",
   "metadata": {},
   "source": [
    "# Redes Neuronales - TP2\n",
    "## Ej 3\n",
    "\n",
    "Implemente un perceptrón multicapa que aprenda la función lógica XOR de 2 y de 4\n",
    "entradas (utilizando el algoritmo Backpropagation y actualizando en batch). Muestre\n",
    "cómo evoluciona el error durante el entrenamiento."
   ]
  },
  {
   "cell_type": "code",
   "execution_count": 122,
   "id": "815fd8bd",
   "metadata": {},
   "outputs": [],
   "source": [
    "import numpy as np\n",
    "import matplotlib.pyplot as plt"
   ]
  },
  {
   "cell_type": "code",
   "execution_count": 123,
   "id": "ee833391",
   "metadata": {},
   "outputs": [],
   "source": [
    "class perceptron_multicapa:\n",
    "    def __init__(self, capas, dim_entrada):\n",
    "        self.capas = capas\n",
    "        self.dim_entrada = dim_entrada\n",
    "        self.lista_matrices = []\n",
    "        self.lr = None\n",
    "        entrada_anterior = dim_entrada\n",
    "        for num_perceptrones in capas:\n",
    "            matriz_pesos = np.random.uniform(-2, 2, size=(num_perceptrones, entrada_anterior + 1)) # inicialización más amplia\n",
    "            self.lista_matrices.append(matriz_pesos)\n",
    "            entrada_anterior = num_perceptrones\n",
    "\n",
    "    def funcion_activacion(self, x):\n",
    "        return 1 / (1 + np.exp(-x))\n",
    "    \n",
    "    def derivada_activacion(self, a):\n",
    "        return a * (1 - a)\n",
    "\n",
    "    def forward(self, x):\n",
    "        a = x\n",
    "        activaciones = [a]\n",
    "        zs = []\n",
    "        for W in self.lista_matrices:\n",
    "            a_b = np.concatenate(([1], a))\n",
    "            z = np.dot(W, a_b)\n",
    "            zs.append(z)\n",
    "            a = self.funcion_activacion(z)\n",
    "            activaciones.append(a)\n",
    "        return activaciones, zs\n",
    "    \n",
    "    def predecir(self, X):\n",
    "        salidas = []\n",
    "        for x in X:\n",
    "            a = x\n",
    "            for W in self.lista_matrices:\n",
    "                a = np.concatenate(([1], a))\n",
    "                a = self.funcion_activacion(np.dot(W, a))\n",
    "            salidas.append(a.reshape(-1))  # garantiza que sea vector 1D\n",
    "        return np.array(salidas).reshape(len(X), -1)\n",
    "\n",
    "\n",
    "    def entrenar(self, X, Y, lr=1.0, epochs=20000):\n",
    "        self.lr = lr\n",
    "        n_samples = X.shape[0]\n",
    "        self.error_por_epoch = []\n",
    "        for epoch in range(epochs):\n",
    "            grad_acum = [np.zeros_like(W) for W in self.lista_matrices]\n",
    "            for i in range(n_samples):\n",
    "                x = X[i]\n",
    "                y = Y[i]\n",
    "                activaciones, zs = self.forward(x)\n",
    "                deltas = [None] * len(self.lista_matrices)\n",
    "                a_out = activaciones[-1]\n",
    "                deltas[-1] = (a_out - y) * self.derivada_activacion(a_out)\n",
    "                for l in range(len(self.lista_matrices)-2, -1, -1):\n",
    "                    W_next = self.lista_matrices[l+1][:,1:]\n",
    "                    delta_next = deltas[l+1]\n",
    "                    a_l = activaciones[l+1]\n",
    "                    deltas[l] = np.dot(W_next.T, delta_next) * self.derivada_activacion(a_l)\n",
    "                for l in range(len(self.lista_matrices)):\n",
    "                    a_prev = np.concatenate(([1], activaciones[l]))\n",
    "                    grad_acum[l] += np.outer(deltas[l], a_prev)\n",
    "            for l in range(len(self.lista_matrices)):\n",
    "                self.lista_matrices[l] -= self.lr * grad_acum[l] / n_samples\n",
    "            if epoch % 100 == 0 or epoch == epochs-1:\n",
    "                pred = self.predecir(X)\n",
    "                loss = np.mean((pred - Y) ** 2)\n",
    "                self.error_por_epoch.append(loss)"
   ]
  },
  {
   "cell_type": "code",
   "execution_count": 124,
   "id": "dfa43828",
   "metadata": {},
   "outputs": [],
   "source": [
    "# datos para la XOR de 2 entradas y 1 salida (corregido)\n",
    "A = np.array([0, 0, 1, 1])\n",
    "B = np.array([0, 1, 0, 1])\n",
    "Y12 = np.array([0, 1, 1, 0])\n",
    "datos_XOR2 = np.column_stack((A, B, Y12))\n"
   ]
  },
  {
   "cell_type": "code",
   "execution_count": 125,
   "id": "4be0e97b",
   "metadata": {},
   "outputs": [],
   "source": [
    "A = np.array([-1,1,-1,1,-1,1,-1,1,-1,1,-1,1,-1,1,-1,1])\n",
    "B = np.array([-1,-1,1,1,-1,-1,1,1,-1,-1,1,1,-1,-1,1,1])\n",
    "C = np.array([-1,-1,-1,-1,1,1,1,1,-1,-1,-1,-1,1,1,1,1])\n",
    "D = np.array([-1,-1,-1,-1,-1,-1,-1,-1,1,1,1,1,1,1,1,1])\n",
    "Y14 = np.array([-1,1,1,-1,1,-1,-1,-1,1,-1,-1,-1,-1,-1,-1,-1])\n",
    "datos_XOR4 = np.column_stack((A, B, C, D, Y14))\n"
   ]
  },
  {
   "cell_type": "code",
   "execution_count": null,
   "id": "aa6c7295",
   "metadata": {},
   "outputs": [],
   "source": [
    "# ahora toca entrenar el perceptron con estos datos\n",
    "test2 = perceptron_multicapa(capas=[4,1], dim_entrada=2) # para la XOR de 2 entradas y 1 salida\n",
    "test4 = perceptron_multicapa(capas=[4, 1], dim_entrada=4) # para la XOR de 4 entradas y 1 salida\n",
    "\n",
    "# entrenamos ambos modelos con sus respectivos datos y targets \n",
    "X2 = datos_XOR2[:, 0:2]\n",
    "Y2 = datos_XOR2[:, 2].reshape(-1, 1)  # targets 0/1 para sigmoide\n",
    "\n",
    "\n",
    "test2.entrenar(X2, Y2, lr=0.1, epochs=5000)\n"
   ]
  },
  {
   "cell_type": "code",
   "execution_count": 127,
   "id": "77380caf",
   "metadata": {},
   "outputs": [
    {
     "data": {
      "image/png": "[encoded data removed]",
      "text/plain": [
       "<Figure size 640x480 with 1 Axes>"
      ]
     },
     "metadata": {},
     "output_type": "display_data"
    }
   ],
   "source": [
    "# Graficar frontera de decisión para XOR de 2 entradas\n",
    "h = 0.01\n",
    "x_min, x_max = X2[:,0].min() - 0.1, X2[:,0].max() + 0.1\n",
    "y_min, y_max = X2[:,1].min() - 0.1, X2[:,1].max() + 0.1\n",
    "xx, yy = np.meshgrid(np.arange(x_min, x_max, h),\n",
    "                     np.arange(y_min, y_max, h))\n",
    "\n",
    "Z = test2.predecir(np.c_[xx.ravel(), yy.ravel()])\n",
    "Z = Z.reshape(xx.shape)\n",
    "\n",
    "plt.contourf(xx, yy, Z, levels=[0,0.5,1], alpha=0.3, cmap=\"bwr\")\n",
    "plt.scatter(X2[:,0], X2[:,1], c=Y2[:,0], cmap=\"bwr\", edgecolors=\"k\")\n",
    "plt.title(\"Frontera de decisión XOR (2 entradas)\")\n",
    "plt.show()\n"
   ]
  },
  {
   "cell_type": "code",
   "execution_count": 128,
   "id": "1d4d1e95",
   "metadata": {},
   "outputs": [],
   "source": [
    "X4 = datos_XOR4[:, 0:4]\n",
    "Y4 = ((datos_XOR4[:, 4] + 1) / 2).reshape(-1, 1)  # targets 0/1 para sigmoid\n",
    "\n",
    "test4.entrenar(X4, Y4, lr=0.1, epochs=5000)"
   ]
  },
  {
   "cell_type": "code",
   "execution_count": 129,
   "id": "d2e01a6c",
   "metadata": {},
   "outputs": [
    {
     "name": "stdout",
     "output_type": "stream",
     "text": [
      "Entradas\tTarget\tSalida sigmoide\tPredicción (umbral 0.5)\n",
      "[0 0]\t0\t0.275\t\t0\n",
      "[0 1]\t1\t0.752\t\t1\n",
      "[1 0]\t1\t0.759\t\t1\n",
      "[1 1]\t0\t0.212\t\t0\n"
     ]
    }
   ],
   "source": [
    "# Mostrar predicciones hard y soft para los 4 puntos de la XOR de 2 entradas\n",
    "print(\"Entradas\\tTarget\\tSalida sigmoide\\tPredicción (umbral 0.5)\")\n",
    "preds = test2.predecir(X2)\n",
    "for x, y, p in zip(X2, Y2, preds):\n",
    "    print(f\"{x}\\t{int(y[0])}\\t{p[0]:.3f}\\t\\t{int(p[0]>=0.5)}\")"
   ]
  },
  {
   "cell_type": "code",
   "execution_count": 130,
   "id": "4f22c414",
   "metadata": {},
   "outputs": [
    {
     "name": "stdout",
     "output_type": "stream",
     "text": [
      "Entradas\tTarget\tSalida sigmoide\tPredicción (umbral 0.5)\n",
      "[-1 -1 -1 -1]\t0\t0.609\t\t1\n",
      "[ 1 -1 -1 -1]\t1\t0.624\t\t1\n",
      "[-1  1 -1 -1]\t1\t0.705\t\t1\n",
      "[ 1  1 -1 -1]\t0\t0.099\t\t0\n",
      "[-1 -1  1 -1]\t1\t0.786\t\t1\n",
      "[ 1 -1  1 -1]\t0\t0.126\t\t0\n",
      "[-1  1  1 -1]\t0\t0.174\t\t0\n",
      "[ 1  1  1 -1]\t0\t0.078\t\t0\n",
      "[-1 -1 -1  1]\t1\t0.577\t\t1\n",
      "[ 1 -1 -1  1]\t0\t0.178\t\t0\n",
      "[-1  1 -1  1]\t0\t0.099\t\t0\n",
      "[ 1  1 -1  1]\t0\t0.025\t\t0\n",
      "[-1 -1  1  1]\t0\t0.119\t\t0\n",
      "[ 1 -1  1  1]\t0\t0.047\t\t0\n",
      "[-1  1  1  1]\t0\t0.046\t\t0\n",
      "[1 1 1 1]\t0\t0.038\t\t0\n"
     ]
    }
   ],
   "source": [
    "# Mostrar predicciones hard y soft para los 4 puntos de la XOR de 4 entradas\n",
    "print(\"Entradas\\tTarget\\tSalida sigmoide\\tPredicción (umbral 0.5)\")\n",
    "preds = test4.predecir(X4)\n",
    "for x, y, p in zip(X4, Y4, preds):\n",
    "    print(f\"{x}\\t{int(y[0])}\\t{p[0]:.3f}\\t\\t{int(p[0]>=0.5)}\")"
   ]
  }
 ],
 "metadata": {
  "kernelspec": {
   "display_name": "Python 3",
   "language": "python",
   "name": "python3"
  },
  "language_info": {
   "codemirror_mode": {
    "name": "ipython",
    "version": 3
   },
   "file_extension": ".py",
   "mimetype": "text/x-python",
   "name": "python",
   "nbconvert_exporter": "python",
   "pygments_lexer": "ipython3",
   "version": "3.12.7"
  }
 },
 "nbformat": 4,
 "nbformat_minor": 5
}
