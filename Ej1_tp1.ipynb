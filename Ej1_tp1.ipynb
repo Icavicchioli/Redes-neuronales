{
 "cells": [
  {
   "cell_type": "markdown",
   "id": "79d44e76",
   "metadata": {},
   "source": [
    "# Redes Neuronales\n",
    "## TP1\n",
    "\n",
    "Entrene una red de Hopfield ‘82 con las imágenes binarias disponibles en el campus.\n",
    "1. Verifique si la red aprendió las imágenes enseñadas.\n",
    "2. Evalúe la evolución de la red al presentarle versiones alteradas de las imágenes aprendidas: agregado de ruido, elementos borrados o agregados.\n",
    "3. Evalúe la existencia de estados espurios en la red: patrones inversos y combinaciones de un número impar de patrones. (Ver Spurious States, en la sección 2.2, Hertz, Krogh & Palmer, pág. 24).\n",
    "4. Realice un entrenamiento con las 6 imágenes disponibles. ¿Es capaz la red de aprender todas las imágenes? Explique."
   ]
  },
  {
   "cell_type": "markdown",
   "id": "2c81db95",
   "metadata": {},
   "source": [
    "### Inciso 1\n",
    "\n",
    "Lo primero que voy a hacer es importar las bibliotecas básicas para poder desarrollar el ejercicio. "
   ]
  },
  {
   "cell_type": "code",
   "execution_count": 1,
   "id": "41967781",
   "metadata": {},
   "outputs": [],
   "source": [
    "# primero importamos numpy y algo para leer imágenes y hacer graficos\n",
    "import numpy as np\n",
    "from PIL import Image\n",
    "import matplotlib.pyplot as plt"
   ]
  },
  {
   "cell_type": "markdown",
   "id": "e6198dd0",
   "metadata": {},
   "source": [
    "Para las imágenes opté la manera fácil de usarlas locales, pero no sería difícil descargarlas desde gitHub en runtime y usarlas de ahí. Para los incisos 1, 2 y 3 separé las imágenes en 2 grupos porque son de diferentes tamaños. El cuarto se hace con las 6 imágenes con alguna modificación a los tamaños. "
   ]
  },
  {
   "cell_type": "code",
   "execution_count": 2,
   "id": "fa7a757c",
   "metadata": {},
   "outputs": [],
   "source": [
    "# necesito paths a las imagenes,vienen de un repo clonado localmente \n",
    "path1 = 'imagenes_tp1\\\\paloma.bmp'\n",
    "path2 = 'imagenes_tp1\\\\panda.bmp' # 50*50\n",
    "path3 = 'imagenes_tp1\\\\perro.bmp' #50*50\n",
    "path4= 'imagenes_tp1\\\\quijote.bmp'\n",
    "path5= 'imagenes_tp1\\\\torero.bmp'\n",
    "path6= 'imagenes_tp1\\\\v.bmp' #50*50\n"
   ]
  },
  {
   "cell_type": "markdown",
   "id": "f847625b",
   "metadata": {},
   "source": [
    "Creo una función que toma una lista de paths a las imágenes y devuelve las imágenes en forma de vectores columna concatenadas. "
   ]
  },
  {
   "cell_type": "code",
   "execution_count": 3,
   "id": "dcdcb335",
   "metadata": {},
   "outputs": [],
   "source": [
    "def imgPath_to_vector(paths):\n",
    "    \"\"\"La idea es tomar una lista de paths y generar una matriz cuyas columnas sean los pixeles de las imagenes\"\"\"\n",
    "    list = []\n",
    "    forma = []\n",
    "    for path in paths:\n",
    "        img = Image.open(path) \n",
    "        vector_img = np.array(img).astype(np.int8)\n",
    "        forma.append(np.shape(vector_img)) # esto se pisa siempre pero van a ser iguales\n",
    "        vector_img = vector_img.ravel()#ideal del profe, tratar las imagenes como vectores columna\n",
    "        list.append(vector_img *2 -1) # acá lo ajusto para ir de (0,1)->(-1,1)\n",
    "    return np.asarray(list).transpose(), list,forma\n",
    "\n",
    "flattened_images1, lista_img1,forma1 = imgPath_to_vector([path2,path3,path6]) # tenemos las imagenes \n",
    "flattened_images2, lista_img,forma2 = imgPath_to_vector([path1,path4,path5])"
   ]
  },
  {
   "cell_type": "markdown",
   "id": "f23f9e26",
   "metadata": {},
   "source": [
    "La altura de estos vectores columna (nuestras \"realizaciones\" para el contexto de lo que buscamos que aprendan las neuonas) nos da la cantidad de neuronas y, por ende, el tamaño de la matriz $W$ de pesos de interconexión de neuronas. Como se discutió en clase, la diagonal de $W$ son ceros para que las nueronas no se realimenten a si mismas. \n",
    "\n",
    "Para este primer caso, el factor de aprendizaje $\\eta$ se mantiene unitario, no afecta al aprendizaje. \n",
    "\n",
    "La matriz $W$ se compone de diferentes $w_{i,j}$, inicializados en cero (van de -1 a 1) y actualizados según la regla:\n",
    "$$\n",
    "\\Delta {w_{i,j}}_{n} = \\eta \\cdot  p^1 _i \\cdot p^1 _j\n",
    "$$\n",
    "$$\n",
    "{w_{i,j} }_{n+1} = {w_{i,j}}_{n} + \\Delta {w_{i,j}}_{n}\n",
    "$$\n",
    "\n",
    "Dónde $p^1 _i$ es el pattern\\patrón en la iteración 1 y posición i. \n",
    "\n",
    "La matriz se calcula por medio de un producto matricial entre los vectores columna de datos con ellos mismos. "
   ]
  },
  {
   "cell_type": "code",
   "execution_count": 4,
   "id": "dc3b12af",
   "metadata": {},
   "outputs": [],
   "source": [
    "# ahora sabemos que hay tantas neuronas como valores en los vectores columna que conforman la matriz de datos \"flattened_images1\"\n",
    "# W es una matriz cuadrada de filas y columnas de igual tamaño a la cantidad de neuronas\n",
    "\n",
    "def calcular_matriz_W(flattened_images,eta=1):\n",
    "    filas = np.shape(flattened_images)[0] # cant de neuronas\n",
    "    columnas = np.shape(flattened_images)[1] # cant de imagenes (vectores)\n",
    "    W_matrix = np.zeros([filas,filas]) # creo la matriz W,de pesos\n",
    "\n",
    "    #for i in range(columnas): # itera 1 vez por cada pattern\n",
    "    #    delta_W = eta * np.asmatrix(flattened_images[:,i]).T @ np.asmatrix(flattened_images[:,i])\n",
    "    #    W_matrix = W_matrix + delta_W\n",
    "\n",
    "    delta_W = eta * np.asmatrix(flattened_images) @ np.asmatrix(flattened_images).T\n",
    "    W_matrix = W_matrix + delta_W\n",
    "\n",
    "    W_matrix = W_matrix - np.diag(np.diag(W_matrix)) # le saco la diagona,lo de diag(diag) está en lapágina de numpy\n",
    "    return W_matrix"
   ]
  },
  {
   "cell_type": "markdown",
   "id": "73b6ef3c",
   "metadata": {},
   "source": [
    "Ahora calculo la matriz de pesos para el primer set de imágenes/patrones. Con este, podemos ver la evolución de la red neuronal partiendo del patrón que se quiera. Para el primer inciso se le alimentan los mismos patrones y se revisa que no cambie entre iteraciones singulares, indicando que son mínimos en la función que representa los estados posibles de la red. En otras palabras, si no cambia es porque se aprendió el patrón. "
   ]
  },
  {
   "cell_type": "code",
   "execution_count": 5,
   "id": "c65d6ee9",
   "metadata": {},
   "outputs": [],
   "source": [
    "W_matrix1 = calcular_matriz_W(flattened_images1)"
   ]
  },
  {
   "cell_type": "code",
   "execution_count": 6,
   "id": "59f9d106",
   "metadata": {},
   "outputs": [],
   "source": [
    "def correr_red(W, patron, iters=5):\n",
    "    \"\"\"Para dejar que la red vaya a algún estado desde el patron\"\"\"\n",
    "    estado = patron.copy() # copia el patron como estado inicial de la red\n",
    "    for _ in range(iters): # itera n veces\n",
    "        estado = np.sign(W @ estado) # por ahora calcula todas juntas, aunque eso puede afectar convergencia - itera sobre los estados\n",
    "    return estado"
   ]
  },
  {
   "cell_type": "code",
   "execution_count": 7,
   "id": "00ae45ee",
   "metadata": {},
   "outputs": [],
   "source": [
    "def chequear_aprendizaje(W_matrix,patron_inicial,original,iters=5):\n",
    "    \"\"\"Esta función solo recibe patrones y devuelve a donde se fue la red \"iters\" iteraciones despues\"\"\"\n",
    "    columnas = np.shape(patron_inicial)[1] # cant de imagenes (vectores)\n",
    "    lista_recordada = [] #para guardar lo que recuerda\n",
    "\n",
    "    for i in range(columnas): # itera 1 vez por cada imagen que se aprendió\n",
    "        original_i = np.asmatrix(original[:, i]).T\n",
    "        patron_i = np.asmatrix(patron_inicial[:, i]).T\n",
    "        res = correr_red(W_matrix,patron_i , iters)\n",
    "        lista_recordada.append(res)\n",
    "\n",
    "        if np.array_equal(original_i, res):# avisamos si las imágenes se recordaron bien o no - compara la original actual con \n",
    "            #la observada ciertas iters después\n",
    "            print(f\"La imagen {i} fue recordada correctamente.\")\n",
    "        else:\n",
    "            print(f\"La imagen {i} NO fue recordada correctamente.\")\n",
    "\n",
    "    return lista_recordada"
   ]
  },
  {
   "cell_type": "code",
   "execution_count": 8,
   "id": "5bbd9596",
   "metadata": {},
   "outputs": [],
   "source": [
    "# ahora tocaría poner la imagen real al lado de la memoria recuperada\n",
    "def mostrar_resultados(memoria, imagenes,forma):\n",
    "    \"\"\"Función que muestra las imágenes reales arriab y a las que converge la red abajo\n",
    "    \n",
    "    En memoria van las resultantes de iterar, en imágenes las reales, en forma va el tamaño (np.shape()) de las imágenes. \n",
    "    \"\"\"\n",
    "    alto, ancho = forma[0], forma[1]\n",
    "    n_imagenes = len(memoria)\n",
    "    \n",
    "    for i in range(n_imagenes):\n",
    "        plt.subplot(2, n_imagenes, i + 1)\n",
    "        plt.imshow(imagenes[:, i].reshape(alto, ancho), cmap='gray')\n",
    "        plt.axis('off')\n",
    "        if i == 0:  # Agregar título solo en la primera imagen\n",
    "            plt.title('Imágenes originales')\n",
    "        \n",
    "        plt.subplot(2, n_imagenes, i + 1 + n_imagenes)\n",
    "        plt.imshow(memoria[i].reshape(alto, ancho), cmap='gray')\n",
    "        plt.axis('off')\n",
    "        if i == 0:  # Agregar título solo en la primera imagen\n",
    "            plt.title('Imágenes después de iterar')\n",
    "    \n",
    "    plt.tight_layout()\n",
    "    plt.show()"
   ]
  },
  {
   "cell_type": "markdown",
   "id": "ce009b92",
   "metadata": {},
   "source": [
    "### Resultados del inciso 1\n",
    "\n",
    "Con todas las funciones ya definidas revisamos que las redes hayan aprendido."
   ]
  },
  {
   "cell_type": "code",
   "execution_count": 9,
   "id": "6dd26558",
   "metadata": {},
   "outputs": [
    {
     "name": "stdout",
     "output_type": "stream",
     "text": [
      "La imagen 0 fue recordada correctamente.\n",
      "La imagen 1 fue recordada correctamente.\n",
      "La imagen 2 fue recordada correctamente.\n"
     ]
    }
   ],
   "source": [
    "lista_recordada1 = chequear_aprendizaje(W_matrix1,flattened_images1,flattened_images1,iters=1)"
   ]
  },
  {
   "cell_type": "code",
   "execution_count": 10,
   "id": "bf6f7ba8",
   "metadata": {},
   "outputs": [
    {
     "name": "stdout",
     "output_type": "stream",
     "text": [
      "La imagen 0 fue recordada correctamente.\n",
      "La imagen 1 fue recordada correctamente.\n",
      "La imagen 2 fue recordada correctamente.\n"
     ]
    }
   ],
   "source": [
    "# idem con el 2do set de imagenes\n",
    "W_matrix2 = calcular_matriz_W(flattened_images2)\n",
    "lista_recordada2 = chequear_aprendizaje(W_matrix2, flattened_images2,flattened_images2)\n"
   ]
  },
  {
   "cell_type": "markdown",
   "id": "e757573e",
   "metadata": {},
   "source": [
    "Se observa que ambas redes entrenadas aprendieron los patrones/imágenes. Abajo se muestran comparaciones de laas imágenes reales y las aprendidas. En este caso son idénticas, pero no lo va a ser para el segundo inciso. "
   ]
  },
  {
   "cell_type": "code",
   "execution_count": 11,
   "id": "1006436d",
   "metadata": {},
   "outputs": [
    {
     "data": {
      "image/png": "[encoded data removed]",
      "text/plain": [
       "<Figure size 640x480 with 6 Axes>"
      ]
     },
     "metadata": {},
     "output_type": "display_data"
    }
   ],
   "source": [
    "mostrar_resultados(lista_recordada1, flattened_images1,forma1[0])"
   ]
  },
  {
   "cell_type": "code",
   "execution_count": 12,
   "id": "d9bfe893",
   "metadata": {},
   "outputs": [
    {
     "data": {
      "image/png": "[encoded data removed]",
      "text/plain": [
       "<Figure size 640x480 with 6 Axes>"
      ]
     },
     "metadata": {},
     "output_type": "display_data"
    }
   ],
   "source": [
    "mostrar_resultados(lista_recordada2, flattened_images2,forma2[0])"
   ]
  },
  {
   "cell_type": "markdown",
   "id": "883d53f0",
   "metadata": {},
   "source": [
    "### Inciso 2\n",
    "\n",
    "Ahora voy a cargar unas fotos editadas a mano, con elemenos quitados y agregados. La idea es ver si la red converge a la imagen original partiendo de la editada, lo que indicaría que fueron aprendidas. Ahora incluyo las imágenes nuevas. "
   ]
  },
  {
   "cell_type": "code",
   "execution_count": 13,
   "id": "34a7cc0a",
   "metadata": {},
   "outputs": [],
   "source": [
    "# necesito paths a las imagenes,vienen de un repo clonado localmente \n",
    "path7 = 'imagenes_tp1\\\\paloma.bmp'\n",
    "path8 = 'imagenes_tp1\\\\panda.bmp' # 50*50\n",
    "path9 = 'imagenes_tp1\\\\perro.bmp' #50*50\n",
    "path10= 'imagenes_tp1\\\\quijote.bmp'\n",
    "path11= 'imagenes_tp1\\\\torero.bmp'\n",
    "path12= 'imagenes_tp1\\\\v.bmp' #50*50\n",
    "\n",
    "flattened_images1_editadas, lista_img1_editadas,forma1_editadas = imgPath_to_vector([path8,path9,path12]) # tenemos las imagenes \n",
    "flattened_images2_editadas, lista_img_editadas,forma2_editadas = imgPath_to_vector([path7,path10,path11])"
   ]
  },
  {
   "cell_type": "code",
   "execution_count": 14,
   "id": "30f909c2",
   "metadata": {},
   "outputs": [],
   "source": [
    "def chequear_aprendizaje(W_matrix,patron_inicial,originales,iters=5):\n",
    "    \"\"\"Esta función solo recibe patrones y devuelve a donde se fue la red \"iters\" iteraciones despues\"\"\"\n",
    "    columnas = np.shape(patron_inicial)[1] # cant de imagenes (vectores)\n",
    "    lista_recordada = [] #para guardar lo que recuerda, una lista de estados por cada imagen\n",
    "\n",
    "    for i in range(columnas): # itera 1 vez por cada imagen que se aprendió\n",
    "        original_i = np.asmatrix(originales[:, i]).T\n",
    "        patron_i = np.asmatrix(patron_inicial[:, i]).T\n",
    "        proceso_reconstruccion = [] # una lista para guardar como va cambiando la red neuronal\n",
    "        for n in range(iters):\n",
    "            estado = correr_red(W_matrix,patron_i , iters=1) # avanzamos 1 paso\n",
    "            proceso_reconstruccion.append(estado)\n",
    "        lista_recordada.append(proceso_reconstruccion) # una lista de listas\n",
    "        \n",
    "        if np.array_equal(original_i, lista_recordada[i][iters-1]):# avisamos si las imágenes se recordaron bien o no\n",
    "            print(f\"La imagen {i} fue recordada correctamente.\")\n",
    "        else:\n",
    "            print(f\"La imagen {i} NO fue recordada correctamente.\")\n",
    "\n",
    "    return lista_recordada"
   ]
  },
  {
   "cell_type": "code",
   "execution_count": 15,
   "id": "af687e95",
   "metadata": {},
   "outputs": [
    {
     "name": "stdout",
     "output_type": "stream",
     "text": [
      "La imagen 0 fue recordada correctamente.\n",
      "La imagen 1 fue recordada correctamente.\n",
      "La imagen 2 fue recordada correctamente.\n"
     ]
    }
   ],
   "source": [
    "lista_recordada_edit_1 = chequear_aprendizaje(W_matrix1, flattened_images1_editadas,flattened_images1)"
   ]
  },
  {
   "cell_type": "code",
   "execution_count": 16,
   "id": "81b64e1d",
   "metadata": {},
   "outputs": [
    {
     "name": "stdout",
     "output_type": "stream",
     "text": [
      "La imagen 0 fue recordada correctamente.\n",
      "La imagen 1 fue recordada correctamente.\n",
      "La imagen 2 fue recordada correctamente.\n"
     ]
    }
   ],
   "source": [
    "lista_recordada_edit_2 = chequear_aprendizaje(W_matrix2, flattened_images2_editadas,flattened_images2)\n"
   ]
  },
  {
   "cell_type": "code",
   "execution_count": 20,
   "id": "7862b4ad",
   "metadata": {},
   "outputs": [],
   "source": [
    "def plot_reconstrucciones(originales, lista_recordada, shape):\n",
    "    \"\"\"\n",
    "    Muestra las imágenes originales y sus reconstrucciones en grilla.\n",
    "\n",
    "    originales: matriz (pixeles x imágenes) -> cada columna es una imagen\n",
    "    lista_recordada: lista de listas devuelta por chequear_aprendizaje\n",
    "    shape: tupla (alto, ancho)\n",
    "    \"\"\"\n",
    "    num_patrones = originales.shape[1]   # ahora son columnas\n",
    "    num_iters = len(lista_recordada[0])\n",
    "\n",
    "    fig, axes = plt.subplots(num_patrones, num_iters + 1,\n",
    "                             figsize=(2*(num_iters+1), 2*num_patrones))\n",
    "\n",
    "    if num_patrones == 1:\n",
    "        axes = [axes]\n",
    "\n",
    "    for i in range(num_patrones):\n",
    "        # Imagen original (columna i)\n",
    "        ax = axes[i][0] if num_patrones > 1 else axes[0]\n",
    "        ax.imshow(originales[:, i].reshape(shape), cmap=\"gray\")\n",
    "        ax.set_title(\"Original\")\n",
    "        ax.axis(\"off\")\n",
    "\n",
    "        # Iteraciones\n",
    "        for j in range(num_iters):\n",
    "            ax = axes[i][j+1] if num_patrones > 1 else axes[j+1]\n",
    "            img_vec = np.array(lista_recordada[i][j]).ravel()\n",
    "            ax.imshow(img_vec.reshape(shape), cmap=\"gray\")\n",
    "            ax.set_title(f\"Iter {j+1}\")\n",
    "            ax.axis(\"off\")\n",
    "\n",
    "    plt.tight_layout()\n",
    "    plt.show()\n"
   ]
  },
  {
   "cell_type": "code",
   "execution_count": 21,
   "id": "a2fa45f4",
   "metadata": {},
   "outputs": [
    {
     "data": {
      "image/png": "[encoded data removed]",
      "text/plain": [
       "<Figure size 1200x600 with 18 Axes>"
      ]
     },
     "metadata": {},
     "output_type": "display_data"
    }
   ],
   "source": [
    "plot_reconstrucciones(flattened_images1_editadas, lista_recordada_edit_1, forma1[0])  # forma1 es lista, tomo [0]"
   ]
  }
 ],
 "metadata": {
  "kernelspec": {
   "display_name": "Python 3",
   "language": "python",
   "name": "python3"
  },
  "language_info": {
   "codemirror_mode": {
    "name": "ipython",
    "version": 3
   },
   "file_extension": ".py",
   "mimetype": "text/x-python",
   "name": "python",
   "nbconvert_exporter": "python",
   "pygments_lexer": "ipython3",
   "version": "3.11.0"
  }
 },
 "nbformat": 4,
 "nbformat_minor": 5
}
