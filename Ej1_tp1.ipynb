{
 "cells": [
  {
   "cell_type": "markdown",
   "id": "79d44e76",
   "metadata": {},
   "source": [
    "# Redes Neuronales\n",
    "## TP1\n",
    "\n",
    "Entrene una red de Hopfield ‘82 con las imágenes binarias disponibles en el campus.\n",
    "1. Verifique si la red aprendió las imágenes enseñadas.\n",
    "2. Evalúe la evolución de la red al presentarle versiones alteradas de las imágenes aprendidas: agregado de ruido, elementos borrados o agregados.\n",
    "3. Evalúe la existencia de estados espurios en la red: patrones inversos y combinaciones de un número impar de patrones. (Ver Spurious States, en la sección 2.2, Hertz, Krogh & Palmer, pág. 24).\n",
    "4. Realice un entrenamiento con las 6 imágenes disponibles. ¿Es capaz la red de aprender todas las imágenes? Explique."
   ]
  },
  {
   "cell_type": "code",
   "execution_count": 52,
   "id": "41967781",
   "metadata": {},
   "outputs": [],
   "source": [
    "# primero importamos numpy y algo para leer imágenes\n",
    "\n",
    "import numpy as np\n",
    "from PIL import Image"
   ]
  },
  {
   "cell_type": "code",
   "execution_count": 53,
   "id": "fa7a757c",
   "metadata": {},
   "outputs": [],
   "source": [
    "# necesito paths a las imagenes,vienen de un repo clonado localmente \n",
    "path1 = 'C:\\\\Users\\\\ignac\\\\Documents\\\\GitHub\\\\Redes-neuronales\\\\imagenes_tp1\\\\paloma.bmp'\n",
    "path2 = 'C:\\\\Users\\\\ignac\\\\Documents\\\\GitHub\\\\Redes-neuronales\\\\imagenes_tp1\\\\panda.bmp' # 50*50\n",
    "path3 = 'C:\\\\Users\\\\ignac\\\\Documents\\\\GitHub\\\\Redes-neuronales\\\\imagenes_tp1\\\\perro.bmp' #50*50\n",
    "path4= 'C:\\\\Users\\\\ignac\\\\Documents\\\\GitHub\\\\Redes-neuronales\\\\imagenes_tp1\\\\quijote.bmp'\n",
    "path5= 'C:\\\\Users\\\\ignac\\\\Documents\\\\GitHub\\\\Redes-neuronales\\\\imagenes_tp1\\\\torero.bmp'\n",
    "path6= 'C:\\\\Users\\\\ignac\\\\Documents\\\\GitHub\\\\Redes-neuronales\\\\imagenes_tp1\\\\v.bmp' #50*50\n"
   ]
  },
  {
   "cell_type": "code",
   "execution_count": null,
   "id": "dcdcb335",
   "metadata": {},
   "outputs": [
    {
     "data": {
      "text/plain": [
       "matrix([[1.],\n",
       "        [1.],\n",
       "        [1.],\n",
       "        ...,\n",
       "        [1.],\n",
       "        [1.],\n",
       "        [1.]])"
      ]
     },
     "execution_count": 84,
     "metadata": {},
     "output_type": "execute_result"
    }
   ],
   "source": [
    "def imgPath_to_vector(paths):\n",
    "    \"\"\"La idea es tomar una lista de paths ygenerar una matriz cuyas columnas sean los pixeles de las imagenes\"\"\"\n",
    "    list = []\n",
    "    for path in paths:\n",
    "        img = Image.open(path) \n",
    "        vector_img = np.array(img).astype(np.int8).ravel()#ideal del profe, tratar las imagenes como vectores columna\n",
    "        list.append(vector_img *2 -1) # acá lo ajusto para ir de (0,1)->(-1,1)\n",
    "    return np.asarray(list).transpose()\n",
    "\n",
    "flattened_images1 = imgPath_to_vector([path2,path3,path6]) # tenemos las imagenes \n",
    "\n",
    "\n",
    "\n",
    "# ahora sabemos que hay tantas neuronas como valores en los vectores columna que conforman la matriz de datos \"flattened_images1\"\n",
    "# W es una matriz cuadrada de filas y columnas de igual tamaño a la cantidad de neuronas\n",
    "\n",
    "def calcular_matriz_W(flattened_images,nu=1):\n",
    "    filas = np.shape(flattened_images)[0]\n",
    "    columnas = np.shape(flattened_images)[1]\n",
    "    W_matrix = np.zeros([filas,filas]) # creo la matriz W,de pesos\n",
    "\n",
    "    for i in range(columnas):\n",
    "        delta_W = nu * np.asmatrix(flattened_images[:,i]).T @ np.asmatrix(flattened_images[:,i])\n",
    "        W_matrix = W_matrix + delta_W\n",
    "\n",
    "    W_matrix = W_matrix - np.diag(np.diag(W_matrix)) \n",
    "\n",
    "    return W_matrix\n",
    "\n",
    "\n",
    "W_matrix = calcular_matriz_W(flattened_images1)\n",
    "\n",
    "np.sign(W_matrix @ np.asmatrix(flattened_images1[:,0]).T)"
   ]
  },
  {
   "cell_type": "code",
   "execution_count": 86,
   "id": "59f9d106",
   "metadata": {},
   "outputs": [
    {
     "name": "stdout",
     "output_type": "stream",
     "text": [
      "Original: [[1 1 1 ... 1 1 1]]\n",
      "Recalled: [[1 1 1 ... 1 1 1]]\n",
      "Equal: True\n"
     ]
    }
   ],
   "source": [
    "def hopfield_recall(W, pattern, steps=5):\n",
    "    state = pattern.copy()\n",
    "    for _ in range(steps):\n",
    "        np.sign(W_matrix @ np.asmatrix(state).T)\n",
    "    return state\n",
    "\n",
    "# Try to recall the first image\n",
    "original = np.asmatrix(flattened_images1[:, 0])\n",
    "recalled = hopfield_recall(W_matrix, original)\n",
    "\n",
    "# Compare original and recalled\n",
    "print(\"Original:\", original)\n",
    "print(\"Recalled:\", recalled)\n",
    "print(\"Equal:\", np.array_equal(original, recalled))"
   ]
  }
 ],
 "metadata": {
  "kernelspec": {
   "display_name": "Python 3",
   "language": "python",
   "name": "python3"
  },
  "language_info": {
   "codemirror_mode": {
    "name": "ipython",
    "version": 3
   },
   "file_extension": ".py",
   "mimetype": "text/x-python",
   "name": "python",
   "nbconvert_exporter": "python",
   "pygments_lexer": "ipython3",
   "version": "3.12.7"
  }
 },
 "nbformat": 4,
 "nbformat_minor": 5
}
