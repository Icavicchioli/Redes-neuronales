{
 "cells": [
  {
   "cell_type": "markdown",
   "id": "79d44e76",
   "metadata": {},
   "source": [
    "# Redes Neuronales\n",
    "## TP1\n",
    "\n",
    "Entrene una red de Hopfield ‘82 con las imágenes binarias disponibles en el campus.\n",
    "1. Verifique si la red aprendió las imágenes enseñadas.\n",
    "2. Evalúe la evolución de la red al presentarle versiones alteradas de las imágenes aprendidas: agregado de ruido, elementos borrados o agregados.\n",
    "3. Evalúe la existencia de estados espurios en la red: patrones inversos y combinaciones de un número impar de patrones. (Ver Spurious States, en la sección 2.2, Hertz, Krogh & Palmer, pág. 24).\n",
    "4. Realice un entrenamiento con las 6 imágenes disponibles. ¿Es capaz la red de aprender todas las imágenes? Explique."
   ]
  },
  {
   "cell_type": "code",
   "execution_count": 105,
   "id": "41967781",
   "metadata": {},
   "outputs": [],
   "source": [
    "# primero importamos numpy y algo para leer imágenes\n",
    "\n",
    "import numpy as np\n",
    "from PIL import Image\n",
    "import matplotlib.pyplot as plt"
   ]
  },
  {
   "cell_type": "code",
   "execution_count": 106,
   "id": "fa7a757c",
   "metadata": {},
   "outputs": [],
   "source": [
    "# necesito paths a las imagenes,vienen de un repo clonado localmente \n",
    "path1 = 'C:\\\\Users\\\\ignac\\\\Documents\\\\GitHub\\\\Redes-neuronales\\\\imagenes_tp1\\\\paloma.bmp'\n",
    "path2 = 'C:\\\\Users\\\\ignac\\\\Documents\\\\GitHub\\\\Redes-neuronales\\\\imagenes_tp1\\\\panda.bmp' # 50*50\n",
    "path3 = 'C:\\\\Users\\\\ignac\\\\Documents\\\\GitHub\\\\Redes-neuronales\\\\imagenes_tp1\\\\perro.bmp' #50*50\n",
    "path4= 'C:\\\\Users\\\\ignac\\\\Documents\\\\GitHub\\\\Redes-neuronales\\\\imagenes_tp1\\\\quijote.bmp'\n",
    "path5= 'C:\\\\Users\\\\ignac\\\\Documents\\\\GitHub\\\\Redes-neuronales\\\\imagenes_tp1\\\\torero.bmp'\n",
    "path6= 'C:\\\\Users\\\\ignac\\\\Documents\\\\GitHub\\\\Redes-neuronales\\\\imagenes_tp1\\\\v.bmp' #50*50\n"
   ]
  },
  {
   "cell_type": "code",
   "execution_count": 107,
   "id": "dcdcb335",
   "metadata": {},
   "outputs": [],
   "source": [
    "def imgPath_to_vector(paths):\n",
    "    \"\"\"La idea es tomar una lista de paths ygenerar una matriz cuyas columnas sean los pixeles de las imagenes\"\"\"\n",
    "    list = []\n",
    "    for path in paths:\n",
    "        img = Image.open(path) \n",
    "        vector_img = np.array(img).astype(np.int8).ravel()#ideal del profe, tratar las imagenes como vectores columna\n",
    "        list.append(vector_img *2 -1) # acá lo ajusto para ir de (0,1)->(-1,1)\n",
    "    return np.asarray(list).transpose(), list\n",
    "\n",
    "flattened_images1, lista_img1 = imgPath_to_vector([path2,path3,path6]) # tenemos las imagenes \n",
    "flattened_images2, lista_img2 = imgPath_to_vector([path1,path4,path5])"
   ]
  },
  {
   "cell_type": "code",
   "execution_count": 108,
   "id": "dc3b12af",
   "metadata": {},
   "outputs": [],
   "source": [
    "# ahora sabemos que hay tantas neuronas como valores en los vectores columna que conforman la matriz de datos \"flattened_images1\"\n",
    "# W es una matriz cuadrada de filas y columnas de igual tamaño a la cantidad de neuronas\n",
    "\n",
    "def calcular_matriz_W(flattened_images,nu=1):\n",
    "    filas = np.shape(flattened_images)[0] # cant de neuronas\n",
    "    columnas = np.shape(flattened_images)[1] # cant de imagenes (vectores)\n",
    "    W_matrix = np.zeros([filas,filas]) # creo la matriz W,de pesos\n",
    "\n",
    "    for i in range(columnas): # itera 1 vez por cada pattern\n",
    "        delta_W = nu * np.asmatrix(flattened_images[:,i]).T @ np.asmatrix(flattened_images[:,i])\n",
    "        W_matrix = W_matrix + delta_W\n",
    "\n",
    "    W_matrix = W_matrix - np.diag(np.diag(W_matrix)) # le saco la diagona,lo de diag(diag) está en lapágina de numpy\n",
    "    return W_matrix"
   ]
  },
  {
   "cell_type": "code",
   "execution_count": 109,
   "id": "c65d6ee9",
   "metadata": {},
   "outputs": [],
   "source": [
    "W_matrix = calcular_matriz_W(flattened_images1)"
   ]
  },
  {
   "cell_type": "code",
   "execution_count": 110,
   "id": "59f9d106",
   "metadata": {},
   "outputs": [],
   "source": [
    "def correr_red(W, patron, iters=5):\n",
    "    \"\"\"PAra dejar que la red vaya a algún estado desde el patron\"\"\"\n",
    "    estado = patron.copy() # copia el patron como estado inicial de la red\n",
    "    for _ in range(iters): # itera n veces\n",
    "        estado = np.sign(W @ estado) # porahora calcula todas juntas, aunque eso puede afectar convergencia?-itera sobre los estados\n",
    "    return estado"
   ]
  },
  {
   "cell_type": "code",
   "execution_count": 111,
   "id": "00ae45ee",
   "metadata": {},
   "outputs": [],
   "source": [
    "def chequear_aprendizaje(W_matrix,flattened_images):\n",
    "    \"\"\"Estafunción solo recibe patrones y devuelve a donde se fue la red 5 iteraciones despues\"\"\"\n",
    "    columnas = np.shape(flattened_images)[1] # cant de imagenes (vectores)\n",
    "    lista_recordada = [] #para guardar lo que recuerda\n",
    "\n",
    "    for i in range(columnas): # itera 1 vez por cada imagen que se aprendió\n",
    "        original = np.asmatrix(flattened_images[:, i]).T\n",
    "        correr_red(W_matrix, original)\n",
    "        lista_recordada.append\n",
    "\n",
    "    return lista_recordada"
   ]
  },
  {
   "cell_type": "code",
   "execution_count": 112,
   "id": "6dd26558",
   "metadata": {},
   "outputs": [],
   "source": [
    "memoria1 = chequear_aprendizaje(W_matrix, flattened_images1)"
   ]
  },
  {
   "cell_type": "code",
   "execution_count": 113,
   "id": "bf6f7ba8",
   "metadata": {},
   "outputs": [],
   "source": [
    "# idem con el 2do set de imagenes\n",
    "W_matrix2 = calcular_matriz_W(flattened_images2)\n",
    "memoria2 = chequear_aprendizaje(W_matrix2, flattened_images2)\n"
   ]
  },
  {
   "cell_type": "code",
   "execution_count": 120,
   "id": "5bbd9596",
   "metadata": {},
   "outputs": [],
   "source": [
    "# ahora tocaría poner la imagen real al lado de la memoria recuperada\n",
    "def mostrar_resultados(memoria, imagenes,alto, ancho):\n",
    "    for i in range(len(memoria)):\n",
    "        plt.subplot(2, len(memoria), i + 1)\n",
    "        plt.imshow(imagenes[:, i].reshape(alto, ancho), cmap='gray')\n",
    "        plt.axis('off')\n",
    "        plt.subplot(2, len(memoria), i + 1 + len(memoria))\n",
    "        plt.imshow(memoria[i].reshape(alto, ancho), cmap='gray')\n",
    "        plt.axis('off')\n",
    "    plt.show()\n",
    "    "
   ]
  },
  {
   "cell_type": "code",
   "execution_count": 122,
   "id": "1006436d",
   "metadata": {},
   "outputs": [],
   "source": [
    "mostrar_resultados(memoria1, flattened_images1,50,50)"
   ]
  },
  {
   "cell_type": "code",
   "execution_count": 117,
   "id": "d9bfe893",
   "metadata": {},
   "outputs": [],
   "source": [
    "mostrar_resultados(memoria2, flattened_images2)"
   ]
  }
 ],
 "metadata": {
  "kernelspec": {
   "display_name": "Python 3",
   "language": "python",
   "name": "python3"
  },
  "language_info": {
   "codemirror_mode": {
    "name": "ipython",
    "version": 3
   },
   "file_extension": ".py",
   "mimetype": "text/x-python",
   "name": "python",
   "nbconvert_exporter": "python",
   "pygments_lexer": "ipython3",
   "version": "3.12.7"
  }
 },
 "nbformat": 4,
 "nbformat_minor": 5
}
