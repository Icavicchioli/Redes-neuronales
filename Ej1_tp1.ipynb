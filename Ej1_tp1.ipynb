{
 "cells": [
  {
   "cell_type": "markdown",
   "id": "79d44e76",
   "metadata": {},
   "source": [
    "# Redes Neuronales\n",
    "## TP1\n"
   ]
  },
  {
   "cell_type": "code",
   "execution_count": null,
   "id": "41967781",
   "metadata": {},
   "outputs": [],
   "source": []
  }
 ],
 "metadata": {
  "language_info": {
   "name": "python"
  }
 },
 "nbformat": 4,
 "nbformat_minor": 5
}
