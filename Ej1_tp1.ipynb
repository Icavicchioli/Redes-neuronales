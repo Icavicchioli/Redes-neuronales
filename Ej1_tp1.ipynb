{
 "cells": [
  {
   "cell_type": "markdown",
   "id": "79d44e76",
   "metadata": {},
   "source": [
    "# Redes Neuronales\n",
    "## TP1\n",
    "\n",
    "Entrene una red de Hopfield ‘82 con las imágenes binarias disponibles en el campus.\n",
    "1. Verifique si la red aprendió las imágenes enseñadas.\n",
    "2. Evalúe la evolución de la red al presentarle versiones alteradas de las imágenes aprendidas: agregado de ruido, elementos borrados o agregados.\n",
    "3. Evalúe la existencia de estados espurios en la red: patrones inversos y combinaciones de un número impar de patrones. (Ver Spurious States, en la sección 2.2, Hertz, Krogh & Palmer, pág. 24).\n",
    "4. Realice un entrenamiento con las 6 imágenes disponibles. ¿Es capaz la red de aprender todas las imágenes? Explique."
   ]
  },
  {
   "cell_type": "code",
   "execution_count": null,
   "id": "41967781",
   "metadata": {},
   "outputs": [],
   "source": [
    "# primero importamos numpy y algo para leer imágenes\n",
    "\n",
    "import numpy as np\n",
    "from PIL import Image"
   ]
  },
  {
   "cell_type": "code",
   "execution_count": null,
   "id": "fa7a757c",
   "metadata": {},
   "outputs": [],
   "source": [
    "# necesito paths a las imagenes,vienen de un repo clonado localmente \n",
    "path1 = 'C:\\\\Users\\\\ignac\\\\Documents\\\\GitHub\\\\Redes-neuronales\\\\imagenes_tp1\\\\paloma.bmp'\n",
    "path2 = 'C:\\\\Users\\\\ignac\\\\Documents\\\\GitHub\\\\Redes-neuronales\\\\imagenes_tp1\\\\panda.bmp' # 50*50\n",
    "path3 = 'C:\\\\Users\\\\ignac\\\\Documents\\\\GitHub\\\\Redes-neuronales\\\\imagenes_tp1\\\\perro.bmp' #50*50\n",
    "path4= 'C:\\\\Users\\\\ignac\\\\Documents\\\\GitHub\\\\Redes-neuronales\\\\imagenes_tp1\\\\quijote.bmp'\n",
    "path5= 'C:\\\\Users\\\\ignac\\\\Documents\\\\GitHub\\\\Redes-neuronales\\\\imagenes_tp1\\\\torero.bmp'\n",
    "path6= 'C:\\\\Users\\\\ignac\\\\Documents\\\\GitHub\\\\Redes-neuronales\\\\imagenes_tp1\\\\v.bmp' #50*50\n"
   ]
  },
  {
   "cell_type": "code",
   "execution_count": null,
   "id": "dcdcb335",
   "metadata": {},
   "outputs": [],
   "source": [
    "def imgPath_to_vector(paths):\n",
    "    \"\"\"La idea es tomar una lista de paths ygenerar una matriz cuyas columnas sean los pixeles de las imagenes\"\"\"\n",
    "    list = []\n",
    "    for path in paths:\n",
    "        img = Image.open(path) \n",
    "        vector_img = np.array(img).astype(np.int8).ravel()#ideal del profe, tratar las imagenes como vectores columna\n",
    "        list.append(vector_img *2 -1) # acá lo ajusto para ir de (0,1)->(-1,1)\n",
    "    return np.asarray(list).transpose()\n",
    "\n"
   ]
  },
  {
   "cell_type": "code",
   "execution_count": 40,
   "id": "dfc120e7",
   "metadata": {},
   "outputs": [],
   "source": [
    "flattened_images1 = imgPath_to_vector([path2,path3,path6]) # tenemos las imagenes "
   ]
  },
  {
   "cell_type": "code",
   "execution_count": 54,
   "id": "df6162e8",
   "metadata": {},
   "outputs": [
    {
     "name": "stdout",
     "output_type": "stream",
     "text": [
      "[[ 1 -1 -1]\n",
      " [ 1 -1 -1]\n",
      " [ 1 -1 -1]\n",
      " ...\n",
      " [ 1 -1 -1]\n",
      " [ 1 -1 -1]\n",
      " [ 1 -1 -1]]\n"
     ]
    }
   ],
   "source": [
    "print(flattened_images1)"
   ]
  },
  {
   "cell_type": "code",
   "execution_count": 60,
   "id": "3c6778cb",
   "metadata": {},
   "outputs": [
    {
     "data": {
      "text/plain": [
       "matrix([[1],\n",
       "        [1],\n",
       "        [1],\n",
       "        ...,\n",
       "        [1],\n",
       "        [1],\n",
       "        [1]], dtype=int8)"
      ]
     },
     "execution_count": 60,
     "metadata": {},
     "output_type": "execute_result"
    }
   ],
   "source": [
    "np.asmatrix(flattened_images1[:,0]).T"
   ]
  },
  {
   "cell_type": "code",
   "execution_count": 68,
   "id": "80f2d36a",
   "metadata": {},
   "outputs": [],
   "source": [
    "# ahora sabemos que hay tantas neuronas como valores en los vectores columna que conforman la matriz de datos \"flattened_images1\"\n",
    "# W es una matriz cuadrada de filas y columnas de igual tamaño a la cantidad de neuronas\n",
    "\n",
    "filas = np.shape(flattened_images1)[0]\n",
    "\n",
    "W_matrix = np.zeros([filas,filas]) # creo la matriz W,de pesos\n",
    "\n",
    "for x in range(10):\n",
    "    delta_W = np.asmatrix(flattened_images1[:,0]).T @ np.asmatrix(flattened_images1[:,0])\n",
    "    W_matrix = W_matrix + delta_W\n",
    "\n",
    "\n",
    "\n"
   ]
  },
  {
   "cell_type": "code",
   "execution_count": null,
   "id": "a395ab6e",
   "metadata": {},
   "outputs": [],
   "source": [
    "print(W_matrix.tolist())"
   ]
  }
 ],
 "metadata": {
  "kernelspec": {
   "display_name": "Python 3",
   "language": "python",
   "name": "python3"
  },
  "language_info": {
   "codemirror_mode": {
    "name": "ipython",
    "version": 3
   },
   "file_extension": ".py",
   "mimetype": "text/x-python",
   "name": "python",
   "nbconvert_exporter": "python",
   "pygments_lexer": "ipython3",
   "version": "3.12.7"
  }
 },
 "nbformat": 4,
 "nbformat_minor": 5
}
